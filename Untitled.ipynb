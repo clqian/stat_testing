{
 "cells": [
  {
   "cell_type": "code",
   "execution_count": 1,
   "metadata": {},
   "outputs": [],
   "source": [
    "import json\n",
    "import pandas as pd\n",
    "import numpy as np\n",
    "import matplotlib.pyplot as plt"
   ]
  },
  {
   "cell_type": "code",
   "execution_count": 4,
   "metadata": {},
   "outputs": [],
   "source": [
    "d = []\n",
    "for l in open('business.json').readlines():\n",
    "    d.append(json.loads(l))  # from json str to dict\n",
    "df = pd.DataFrame.from_records(d)"
   ]
  },
  {
   "cell_type": "code",
   "execution_count": 5,
   "metadata": {},
   "outputs": [
    {
     "name": "stdout",
     "output_type": "stream",
     "text": [
      "0           5\n",
      "1         128\n",
      "2         170\n",
      "3           3\n",
      "4           4\n",
      "5           3\n",
      "6           7\n",
      "7           3\n",
      "8           8\n",
      "9           8\n",
      "10          5\n",
      "11         18\n",
      "12          9\n",
      "13         16\n",
      "14          7\n",
      "15          4\n",
      "16          5\n",
      "17         40\n",
      "18         21\n",
      "19         23\n",
      "20         38\n",
      "21          3\n",
      "22        107\n",
      "23         35\n",
      "24          4\n",
      "25        184\n",
      "26          8\n",
      "27         12\n",
      "28         52\n",
      "29         57\n",
      "         ... \n",
      "192579      3\n",
      "192580     48\n",
      "192581     20\n",
      "192582      6\n",
      "192583     47\n",
      "192584      3\n",
      "192585     39\n",
      "192586      3\n",
      "192587    113\n",
      "192588      5\n",
      "192589     22\n",
      "192590     32\n",
      "192591      4\n",
      "192592     12\n",
      "192593     15\n",
      "192594      3\n",
      "192595      4\n",
      "192596     25\n",
      "192597     15\n",
      "192598    138\n",
      "192599     47\n",
      "192600     19\n",
      "192601    441\n",
      "192602     12\n",
      "192603     39\n",
      "192604      9\n",
      "192605      3\n",
      "192606     14\n",
      "192607     15\n",
      "192608      3\n",
      "Name: review_count, Length: 192609, dtype: int64\n"
     ]
    }
   ],
   "source": [
    "rev_cnt = df['review_count']\n",
    "print(rev_cnt)"
   ]
  },
  {
   "cell_type": "code",
   "execution_count": null,
   "metadata": {},
   "outputs": [],
   "source": []
  }
 ],
 "metadata": {
  "kernelspec": {
   "display_name": "Python 3",
   "language": "python",
   "name": "python3"
  },
  "language_info": {
   "codemirror_mode": {
    "name": "ipython",
    "version": 3
   },
   "file_extension": ".py",
   "mimetype": "text/x-python",
   "name": "python",
   "nbconvert_exporter": "python",
   "pygments_lexer": "ipython3",
   "version": "3.7.3"
  }
 },
 "nbformat": 4,
 "nbformat_minor": 2
}
